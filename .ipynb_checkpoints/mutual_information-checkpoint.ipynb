{
 "cells": [
  {
   "cell_type": "markdown",
   "metadata": {},
   "source": [
    "<h3> Mututal Information Coding Practice"
   ]
  },
  {
   "cell_type": "markdown",
   "metadata": {},
   "source": [
    "Code for the mutual information of two discrete variables as defined by wikipedia:\n",
    "    https://en.wikipedia.org/wiki/Mutual_information"
   ]
  },
  {
   "cell_type": "code",
   "execution_count": 41,
   "metadata": {
    "collapsed": true
   },
   "outputs": [],
   "source": [
    "import pandas as pd\n",
    "import numpy as np\n",
    "import itertools"
   ]
  },
  {
   "cell_type": "code",
   "execution_count": 92,
   "metadata": {
    "collapsed": true
   },
   "outputs": [],
   "source": [
    "def pointwise_mi(df,a_val,b_val):\n",
    "    '''\n",
    "    generate the point-wise mutual information for a specific outcome of a and b\n",
    "    df: the data_frame, currently expecting columns of 'a' and 'b', which have\n",
    "    no missing values\n",
    "    a_val: the specific outcome of 'a' tested (e.g., 1 or 0 for a boolean outcome)\n",
    "    b_val: the specific outcome of 'b' tested (e.g., 1 or 0 for a boolean outcome)\n",
    "    \n",
    "    this function only works for discrete outcomes\n",
    "    '''\n",
    "    \n",
    "    tot = df.a.count() * 1.0 #get the total number of rows, turn into float\n",
    "    a_cnts = df.a.value_counts()[a_val]\n",
    "    b_cnts = df.b.value_counts()[b_val]\n",
    "    \n",
    "    p_a = a_cnts / tot #marginal probability of the outcome a\n",
    "    p_b = b_cnts / tot\n",
    "    \n",
    "    tot_a_b = np.sum(df.apply(both_vals,axis = 1, args = (a_val,b_val))) #the total number ...\n",
    "    # of joint outcomes with of a_val and b_val\n",
    "    \n",
    "    p_a_b =  tot_a_b / tot\n",
    "    \n",
    "    p_mi = np.log(p_a_b / (p_a * p_b))\n",
    "    return p_mi, p_a_b\n",
    "    "
   ]
  },
  {
   "cell_type": "code",
   "execution_count": 30,
   "metadata": {
    "collapsed": true
   },
   "outputs": [],
   "source": [
    "def both_vals(x,a_val,b_val):\n",
    "    '''\n",
    "    check to see whether a is equal to the a_val and b is equal to the b_val\n",
    "    x: the data frame with the a and b columns\n",
    "    a_val: the outcome a to check\n",
    "    b_va: the outcome b to check\n",
    "    \n",
    "    '''\n",
    "    if x.a == a_val and x.b == b_val:\n",
    "        return 1\n",
    "    else:\n",
    "        return 0"
   ]
  },
  {
   "cell_type": "code",
   "execution_count": 45,
   "metadata": {
    "collapsed": false
   },
   "outputs": [],
   "source": [
    "def mututal_information(df):\n",
    "    '''\n",
    "    returns the mutual information of two probabilistic outcomes\n",
    "    df: a data frame with two columns, 'a' and 'b', which contain any number of different, \n",
    "    discrete outcomes. Outcomes can be integers, strings, etc, but are assumed to be discrete\n",
    "    '''\n",
    "    \n",
    "    a_set = set(df.a.unique()) #the set of values in a\n",
    "    b_set = set(df.b.unique())\n",
    "    permutations = list(itertools.product(a_set,b_set)) #cartesian product of a_set and b_set\n",
    "    mi_array = list() #the mutual information for each unique combination of a and b\n",
    "\n",
    "    for val in permutations:\n",
    "        pmi, p_a_b = pointwise_mi(df,val[0],val[1]) #get the pointwise mututual information\n",
    "        mi_array.append(p_a_b * pmi)\n",
    "        \n",
    "    mi = np.sum(np.array(mi_array)) #mutual information\n",
    "    \n",
    "    return mi\n",
    "    \n",
    "    "
   ]
  },
  {
   "cell_type": "code",
   "execution_count": 85,
   "metadata": {
    "collapsed": false
   },
   "outputs": [],
   "source": [
    "def test_sets(test_type):\n",
    "    '''make test sets for data with known values'''\n",
    "    if test_type == 'ind': #independent values\n",
    "        a = np.random.binomial(1,0.5,10000)\n",
    "        b = np.random.binomial(1,0.5,10000)\n",
    "        both = pd.DataFrame({'a':a,'b':b})\n",
    "    if test_type == 'all_same':\n",
    "        a = [1] * 100\n",
    "        b = [1] * 100\n",
    "    if test_type == 'middle':\n",
    "        a = np.random.binomial(1,0.5,10000)\n",
    "        b = list()\n",
    "        for i in a:\n",
    "            if np.random.binomial(1,0.5):\n",
    "                b.append(np.random.binomial(1,i))\n",
    "            else:\n",
    "                b.append(np.random.binomial(1,0.5))\n",
    "        both = pd.DataFrame({'a':a,'b':b})\n",
    "        return both\n",
    "    else:\n",
    "        raise 'unknown type'\n",
    "    return both"
   ]
  },
  {
   "cell_type": "code",
   "execution_count": 95,
   "metadata": {
    "collapsed": false
   },
   "outputs": [],
   "source": [
    "df = test_sets('middle')\n",
    "my_mi = mututal_information(df)"
   ]
  },
  {
   "cell_type": "markdown",
   "metadata": {},
   "source": [
    "<h4> as a final test check to see how output compares to sk learn's MI function"
   ]
  },
  {
   "cell_type": "code",
   "execution_count": 103,
   "metadata": {
    "collapsed": false
   },
   "outputs": [
    {
     "data": {
      "text/plain": [
       "True"
      ]
     },
     "execution_count": 103,
     "metadata": {},
     "output_type": "execute_result"
    }
   ],
   "source": [
    "from sklearn.metrics import mutual_info_score\n",
    "sk_mi = mutual_info_score(df.a,df.b)\n",
    "np.round(sk_mi,10) == np.round(my_mi,10) #check to see if both functions give  ...\n",
    "#the same output out to 10 decimals"
   ]
  }
 ],
 "metadata": {
  "kernelspec": {
   "display_name": "Python 2",
   "language": "python",
   "name": "python2"
  },
  "language_info": {
   "codemirror_mode": {
    "name": "ipython",
    "version": 2
   },
   "file_extension": ".py",
   "mimetype": "text/x-python",
   "name": "python",
   "nbconvert_exporter": "python",
   "pygments_lexer": "ipython2",
   "version": "2.7.9"
  }
 },
 "nbformat": 4,
 "nbformat_minor": 0
}
