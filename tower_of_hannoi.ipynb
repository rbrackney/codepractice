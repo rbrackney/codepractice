{
 "cells": [
  {
   "cell_type": "markdown",
   "metadata": {},
   "source": [
    "<h1> TOWER OF HANNOI"
   ]
  },
  {
   "cell_type": "code",
   "execution_count": 60,
   "metadata": {
    "collapsed": false
   },
   "outputs": [],
   "source": [
    "class Tower(object):\n",
    "    def __init__(self,disc_cnt):\n",
    "        self.towers = [list(),list(),list()] #each tower, in order\n",
    "        self.initial_discs = disc_cnt\n",
    "        for i in range(self.initial_discs):\n",
    "            self.towers[0].append(self.initial_discs - i)\n",
    "            \n",
    "    def check_rules(self):\n",
    "        towers = [self.towers[0],self.towers[1],self.towers[2]]\n",
    "        for curt in towers:\n",
    "            for i,k in enumerate(curt):\n",
    "                if i+1 == len(curt):\n",
    "                    break\n",
    "                assert curt[i] > curt[i+1]\n",
    "                \n",
    "    def start_moving(self):\n",
    "        n = len(self.towers[0])\n",
    "        self.move(n,1,3)\n",
    "        \n",
    "    def move(self,n,cur,tar):\n",
    "        if n == 1:\n",
    "            cur_disk = self.towers[cur-1].pop()\n",
    "            self.towers[tar-1].append(cur_disk)\n",
    "            self.check_rules()\n",
    "        else:\n",
    "            all_i = [1,2,3]\n",
    "            cur_i = [1,2]\n",
    "            not_target =  list(set(all_i).symmetric_difference(cur_i))[0]\n",
    "            cur_n = n - 1\n",
    "            self.move(cur_n,cur,not_target)\n",
    "            "
   ]
  },
  {
   "cell_type": "code",
   "execution_count": 61,
   "metadata": {
    "collapsed": false
   },
   "outputs": [],
   "source": [
    "'''initialize'''\n",
    "my_tower = Tower(3)\n",
    "my_tower.start_moving()"
   ]
  },
  {
   "cell_type": "code",
   "execution_count": 62,
   "metadata": {
    "collapsed": false
   },
   "outputs": [
    {
     "data": {
      "text/plain": [
       "[[3, 2], [], [1]]"
      ]
     },
     "execution_count": 62,
     "metadata": {},
     "output_type": "execute_result"
    }
   ],
   "source": [
    "my_tower.towers"
   ]
  },
  {
   "cell_type": "code",
   "execution_count": 52,
   "metadata": {
    "collapsed": false
   },
   "outputs": [
    {
     "name": "stdout",
     "output_type": "stream",
     "text": [
      "99\n"
     ]
    }
   ],
   "source": [
    "#Actual answer:\n",
    "def hanoi(n, source, helper, target):\n",
    "    if n > 0:\n",
    "        # move tower of size n - 1 to helper:\n",
    "        hanoi(n - 1, source, target, helper)\n",
    "        # move disk from source peg to target peg\n",
    "        if source:\n",
    "            target.append(source.pop())\n",
    "        # move tower of size n-1 from helper to target\n",
    "        hanoi(n - 1, helper, source, target)\n",
    "        \n",
    "source = [4,3,2,1]\n",
    "target = []\n",
    "helper = []\n",
    "hanoi(len(source),source,helper,target)\n",
    "\n",
    "print source, helper, target"
   ]
  }
 ],
 "metadata": {
  "kernelspec": {
   "display_name": "Python 2",
   "language": "python",
   "name": "python2"
  },
  "language_info": {
   "codemirror_mode": {
    "name": "ipython",
    "version": 2
   },
   "file_extension": ".py",
   "mimetype": "text/x-python",
   "name": "python",
   "nbconvert_exporter": "python",
   "pygments_lexer": "ipython2",
   "version": "2.7.9"
  }
 },
 "nbformat": 4,
 "nbformat_minor": 0
}
